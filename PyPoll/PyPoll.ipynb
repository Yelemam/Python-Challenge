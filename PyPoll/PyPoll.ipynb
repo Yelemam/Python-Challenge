{
 "cells": [
  {
   "cell_type": "code",
   "execution_count": 19,
   "id": "88ebce70-2358-4abf-b8b9-c13701b862ce",
   "metadata": {},
   "outputs": [
    {
     "name": "stdout",
     "output_type": "stream",
     "text": [
      "Election Results\n",
      "----------------------------\n",
      "Total Votes: 369711\n",
      "----------------------------\n",
      "Charles Casper Stockham: 23.049% (85213)\n",
      "Diana DeGette: 73.812% (272892)\n",
      "Raymon Anthony Doane: 3.139% (11606)\n",
      "----------------------------\n",
      "Winner: Diana DeGette (73.812%)\n",
      "----------------------------\n"
     ]
    }
   ],
   "source": [
    "import os\n",
    "import csv\n",
    "\n",
    "# Joining path\n",
    "election_data = os.path.join(\"/Users/yara/Resources\", \"election_data.csv\")\n",
    "\n",
    "# Open and read CSV\n",
    "with open(election_data, newline=\"\") as csvfile:\n",
    "    csvreader = csv.reader(csvfile, delimiter=\",\")\n",
    "    csv_header = next(csvreader)  \n",
    "\n",
    "# intializing as dictionary    \n",
    "    candidate_votes = {}\n",
    "    \n",
    "# Read through each row of data \n",
    "    for row in csvreader:\n",
    "        candidate = row[2]\n",
    "        if candidate in candidate_votes:\n",
    "            candidate_votes[candidate] += 1\n",
    "        else:\n",
    "            candidate_votes[candidate] = 1\n",
    "\n",
    "# Calculate thee total votes, winner and winner percantage\n",
    "    total_votes = sum(candidate_votes.values())\n",
    "    winner = max(candidate_votes, key=candidate_votes.get)\n",
    "    winner_percentage = candidate_votes[winner] / total_votes * 100\n",
    "\n",
    "# print results\n",
    "    print(\"Election Results\")\n",
    "    print(\"----------------------------\")\n",
    "    print(f\"Total Votes: {total_votes}\")\n",
    "    print(\"----------------------------\")\n",
    "\n",
    "    for candidate, votes in candidate_votes.items():\n",
    "        percentage = votes / total_votes * 100\n",
    "        print(f\"{candidate}: {percentage:.3f}% ({votes})\")\n",
    "\n",
    "    print(\"----------------------------\")\n",
    "    print(f\"Winner: {winner} ({winner_percentage:.3f}%)\")\n",
    "    print(\"----------------------------\")\n",
    "\n",
    "# Output to txt file\n",
    "    with open('Users/yara/Resources/PyBank.txt', 'w') as output_file:\n",
    "        output_file.write(\"Election Results\\n\")\n",
    "        output_file.write(\"----------------------------\\n\")\n",
    "        output_file.write(f\"Total Votes: {total_votes}\\n\")\n",
    "        output_file.write(\"----------------------------\\n\")\n",
    "\n",
    "        for candidate, votes in candidate_votes.items():\n",
    "            percentage = votes / total_votes * 100\n",
    "            output_file.write(f\"{candidate}: {percentage:.3f}% ({votes})\\n\")\n",
    "\n",
    "        output_file.write(\"----------------------------\\n\")\n",
    "        output_file.write(f\"Winner: {winner} ({winner_percentage:.3f}%)\\n\")\n",
    "        output_file.write(\"----------------------------\\n\")"
   ]
  },
  {
   "cell_type": "code",
   "execution_count": null,
   "id": "214b635c-ef4b-4264-8129-4c386ef1dab6",
   "metadata": {},
   "outputs": [],
   "source": []
  }
 ],
 "metadata": {
  "kernelspec": {
   "display_name": "Python 3 (ipykernel)",
   "language": "python",
   "name": "python3"
  },
  "language_info": {
   "codemirror_mode": {
    "name": "ipython",
    "version": 3
   },
   "file_extension": ".py",
   "mimetype": "text/x-python",
   "name": "python",
   "nbconvert_exporter": "python",
   "pygments_lexer": "ipython3",
   "version": "3.12.4"
  }
 },
 "nbformat": 4,
 "nbformat_minor": 5
}
