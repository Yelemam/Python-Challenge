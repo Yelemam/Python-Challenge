{
 "cells": [
  {
   "cell_type": "code",
   "execution_count": null,
   "id": "5078df31-15b0-4d3c-bcd6-050ffb720803",
   "metadata": {
    "editable": true,
    "slideshow": {
     "slide_type": ""
    },
    "tags": []
   },
   "outputs": [
    {
     "name": "stdout",
     "output_type": "stream",
     "text": [
      "Financial Analysis\n",
      "....................................................................................\n",
      "Total Months: 86\n",
      "Total: $22564198\n",
      "Average Change: $-8311.11\n",
      "Greatest Increase in Profits: Aug-16 ($1862002)\n",
      "Greatest Decrease in Profits: Feb-14 ($-1825558)\n"
     ]
    }
   ],
   "source": [
    "import os\n",
    "import csv\n",
    "\n",
    "# Joining path\n",
    "budget_data = os.path.join(\"/Users/yara/Resources\", \"budget_data.csv\")\n",
    "\n",
    "# Open and read CSV\n",
    "with open(budget_data, newline=\"\") as csvfile:\n",
    "    csvreader = csv.reader(csvfile, delimiter=\",\")\n",
    "    csv_header = next(csvreader)  \n",
    "\n",
    "    # Initialize lists to store profit/losses and months\n",
    "    P = []\n",
    "    months = []\n",
    "\n",
    "    # Read through each row of data after header\n",
    "    for row in csvreader:  \n",
    "        P.append(int(row[1]))\n",
    "        months.append(row[0])\n",
    "\n",
    "    # Find revenue change\n",
    "    revenue_change = []\n",
    "\n",
    "    for x in range(1, len(P)):\n",
    "        revenue_change.append(P[x] - P[x-1])  \n",
    "\n",
    "    # Calculate average revenue change\n",
    "    revenue_average = sum(revenue_change) / len(revenue_change)\n",
    "\n",
    "    # Calculate total length of months\n",
    "    total_months = len(months)\n",
    "\n",
    "    # Greatest increase and decrease in revenue\n",
    "    greatest_increase = max(revenue_change)\n",
    "    greatest_decrease = min(revenue_change)\n",
    "\n",
    "    # Print the results\n",
    "    print(\"Financial Analysis\")\n",
    "    print(\"....................................................................................\")\n",
    "    print(f\"Total Months: {total_months}\")\n",
    "    print(f\"Total: ${sum(P)}\")\n",
    "    print(f\"Average Change: ${revenue_average:.2f}\")\n",
    "    print(f\"Greatest Increase in Profits: {months[revenue_change.index(greatest_increase) + 1]} (${greatest_increase})\")\n",
    "    print(f\"Greatest Decrease in Profits: {months[revenue_change.index(greatest_decrease) + 1]} (${greatest_decrease})\")\n",
    "\n",
    "    # Output to a text file\n",
    "    with open(\"/Users/yara/Resources/PyBank.txt\", \"w\") as file:\n",
    "        file.write(\"Financial Analysis\\n\")\n",
    "        file.write(\"....................................................................................\\n\")\n",
    "        file.write(f\"Total Months: {total_months}\\n\")\n",
    "        file.write(f\"Total: ${sum(P)}\\n\")\n",
    "        file.write(f\"Average Change: ${revenue_average:.2f}\\n\")\n",
    "        file.write(f\"Greatest Increase in Profits: {months[revenue_change.index(greatest_increase) + 1]} (${greatest_increase})\\n\")\n",
    "        file.write(f\"Greatest Decrease in Profits: {months[revenue_change.index(greatest_decrease) + 1]} (${greatest_decrease})\\n\")\n"
   ]
  },
  {
   "cell_type": "code",
   "execution_count": null,
   "id": "4dd88613-7e31-4627-9dee-607203976648",
   "metadata": {},
   "outputs": [],
   "source": []
  }
 ],
 "metadata": {
  "kernelspec": {
   "display_name": "Python 3 (ipykernel)",
   "language": "python",
   "name": "python3"
  },
  "language_info": {
   "codemirror_mode": {
    "name": "ipython",
    "version": 3
   },
   "file_extension": ".py",
   "mimetype": "text/x-python",
   "name": "python",
   "nbconvert_exporter": "python",
   "pygments_lexer": "ipython3",
   "version": "3.12.4"
  }
 },
 "nbformat": 4,
 "nbformat_minor": 5
}
